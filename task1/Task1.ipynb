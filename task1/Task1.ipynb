{
 "cells": [
  {
   "cell_type": "code",
   "execution_count": 1,
   "metadata": {},
   "outputs": [],
   "source": [
    "def multiplicate(A: list) -> list:\n",
    "    # calculate multiply of all items\n",
    "    mul_all = 1\n",
    "    for item in A:\n",
    "        mul_all *= item\n",
    "    # divide to item with index\n",
    "    out_list = []\n",
    "    for idx in range(len(A)):\n",
    "        try:\n",
    "            out_list.append(mul_all // A[idx])\n",
    "        except ZeroDivisionError:\n",
    "            mul_all_wout_idx = 1\n",
    "            for item in [A[x] for x in range(len(A)) if x != idx]:\n",
    "                mul_all_wout_idx *= item\n",
    "            out_list.append(mul_all_wout_idx)\n",
    "    return out_list"
   ]
  },
  {
   "cell_type": "code",
   "execution_count": 2,
   "metadata": {},
   "outputs": [
    {
     "name": "stdout",
     "output_type": "stream",
     "text": [
      "[24, 12, 8, 6]\n",
      "[-24, 12, -8, 6]\n",
      "[0, 0, 16, 0, 0]\n"
     ]
    }
   ],
   "source": [
    "if __name__ == '__main__':\n",
    "    test_list = [1, 2, 3, 4]\n",
    "    print(multiplicate(test_list))\n",
    "    test_list2 = [-1, 2, -3, 4]\n",
    "    print(multiplicate(test_list2))\n",
    "    test_list3 = [2, 2, 0, -2, -2]\n",
    "    print(multiplicate(test_list3))"
   ]
  },
  {
   "cell_type": "code",
   "execution_count": null,
   "metadata": {},
   "outputs": [],
   "source": []
  }
 ],
 "metadata": {
  "kernelspec": {
   "display_name": "Python 3",
   "language": "python",
   "name": "python3"
  },
  "language_info": {
   "codemirror_mode": {
    "name": "ipython",
    "version": 3
   },
   "file_extension": ".py",
   "mimetype": "text/x-python",
   "name": "python",
   "nbconvert_exporter": "python",
   "pygments_lexer": "ipython3",
   "version": "3.8.6"
  }
 },
 "nbformat": 4,
 "nbformat_minor": 4
}
